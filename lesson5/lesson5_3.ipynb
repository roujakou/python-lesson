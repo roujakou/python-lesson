{
 "cells": [
  {
   "cell_type": "code",
   "execution_count": 5,
   "id": "6cee1ff9",
   "metadata": {},
   "outputs": [
    {
     "name": "stdout",
     "output_type": "stream",
     "text": [
      "恭喜已經存夠了，存了4月，共存了312987元\n"
     ]
    }
   ],
   "source": [
    "deposit = 0\n",
    "num = 0\n",
    "while deposit < 30000:\n",
    "    num += 1\n",
    "    inputNum = int(input(f'請輸入第{num}月份的存款'))\n",
    "    deposit += inputNum\n",
    "\n",
    "print(f\"恭喜已經存夠了，存了{num}月，共存了{deposit}元\")"
   ]
  },
  {
   "cell_type": "code",
   "execution_count": null,
   "id": "c31a1287",
   "metadata": {},
   "outputs": [],
   "source": [
    "deposit = 0\n",
    "num = 0\n",
    "while True:\n",
    "    num += 1\n",
    "    inputNum = int(input(f'請輸入第{num}個月份的存款:'))\n",
    "    deposit += inputNum\n",
    "    if deposit >= 30000:\n",
    "        break\n",
    "\n",
    "print(f\"恭喜!已經存夠了，存了{num}月,共存了{deposit}元\")"
   ]
  },
  {
   "cell_type": "code",
   "execution_count": 9,
   "id": "537f0a0e",
   "metadata": {},
   "outputs": [
    {
     "name": "stdout",
     "output_type": "stream",
     "text": [
      "輸入的次數是6,所有輸入的正偶數的加總是:12\n"
     ]
    }
   ],
   "source": [
    "# 請設計一個程式，讓使用者輸入數值，只有加總正偶數值，不加總正奇數值，如果輸入負數，結束程式。\n",
    "\n",
    "sum = 0\n",
    "num = 0\n",
    "while True:\n",
    "    input_value = int(input(f\"請輸入第{num+1}個數值\"))\n",
    "    if input_value < 0:\n",
    "        break\n",
    "    num += 1\n",
    "    if input_value % 2 == 1:\n",
    "        continue\n",
    "    sum += input_value\n",
    "\n",
    "print(f\"輸入的次數是{num},所有輸入的正偶數的加總是:{sum}\")"
   ]
  },
  {
   "cell_type": "code",
   "execution_count": 11,
   "id": "56a62ad7",
   "metadata": {},
   "outputs": [
    {
     "name": "stdout",
     "output_type": "stream",
     "text": [
      "0.1853340774143779\n",
      "6\n",
      "4.368078805997566\n"
     ]
    }
   ],
   "source": [
    "import random\n",
    "print(random.random())\n",
    "print(random.randint(1,10))\n",
    "print(random.uniform(1.1,5.4))"
   ]
  }
 ],
 "metadata": {
  "kernelspec": {
   "display_name": "base",
   "language": "python",
   "name": "python3"
  },
  "language_info": {
   "codemirror_mode": {
    "name": "ipython",
    "version": 3
   },
   "file_extension": ".py",
   "mimetype": "text/x-python",
   "name": "python",
   "nbconvert_exporter": "python",
   "pygments_lexer": "ipython3",
   "version": "3.13.2"
  }
 },
 "nbformat": 4,
 "nbformat_minor": 5
}
