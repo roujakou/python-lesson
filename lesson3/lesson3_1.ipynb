{
 "cells": [
  {
   "cell_type": "code",
   "execution_count": 3,
   "id": "1ce3c76f",
   "metadata": {},
   "outputs": [
    {
     "name": "stdout",
     "output_type": "stream",
     "text": [
      "hello world\n"
     ]
    }
   ],
   "source": [
    "print(\"hello world\")"
   ]
  },
  {
   "cell_type": "code",
   "execution_count": 9,
   "id": "c4d8445a",
   "metadata": {},
   "outputs": [
    {
     "name": "stdout",
     "output_type": "stream",
     "text": [
      "斜邊等於 5.0\n"
     ]
    }
   ],
   "source": [
    "#讓使用者輸入直角三角形的對邊\n",
    "#讓使用者輸入直角三角形的鄰邊\n",
    "#計算斜邊\n",
    "import math\n",
    "side = int(input(\"請輸入直角三角形的對邊長度：\"))\n",
    "another_side = int(input(\"請輸入直角三角形的鄰邊長度：\"))\n",
    "result = math.sqrt(side ** 2 + another_side ** 2)\n",
    "print(\"斜邊等於\",result)\n"
   ]
  },
  {
   "cell_type": "code",
   "execution_count": 8,
   "id": "c0928dd6",
   "metadata": {},
   "outputs": [
    {
     "name": "stdout",
     "output_type": "stream",
     "text": [
      "100\n"
     ]
    }
   ],
   "source": [
    "n = 5\n",
    "n += 5\n",
    "n *= 10\n",
    "print(n)"
   ]
  },
  {
   "cell_type": "code",
   "execution_count": 10,
   "id": "f1a6e15d",
   "metadata": {},
   "outputs": [
    {
     "name": "stdout",
     "output_type": "stream",
     "text": [
      "ABCD\n"
     ]
    }
   ],
   "source": [
    "print(\"AB\" + \"CD\")"
   ]
  },
  {
   "cell_type": "code",
   "execution_count": null,
   "id": "da515c0e",
   "metadata": {},
   "outputs": [
    {
     "name": "stdout",
     "output_type": "stream",
     "text": [
      "我的基本資料:\n",
      "姓名\t黃柏瑞\n",
      "性別\t男\n"
     ]
    }
   ],
   "source": [
    "#字串特殊符號\n",
    "#\\(backslash)n 換行\n",
    "#\\t TAB\n",
    "print(\"我的基本資料:\\n姓名\\t黃柏瑞\\n性別\\t男\")"
   ]
  }
 ],
 "metadata": {
  "kernelspec": {
   "display_name": "base",
   "language": "python",
   "name": "python3"
  },
  "language_info": {
   "codemirror_mode": {
    "name": "ipython",
    "version": 3
   },
   "file_extension": ".py",
   "mimetype": "text/x-python",
   "name": "python",
   "nbconvert_exporter": "python",
   "pygments_lexer": "ipython3",
   "version": "3.13.2"
  }
 },
 "nbformat": 4,
 "nbformat_minor": 5
}
