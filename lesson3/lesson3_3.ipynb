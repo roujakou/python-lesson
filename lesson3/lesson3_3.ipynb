{
 "cells": [
  {
   "cell_type": "code",
   "execution_count": null,
   "id": "d7dd764f",
   "metadata": {},
   "outputs": [],
   "source": [
    "#流程控制的判斷\n",
    "#判斷讓執行的程式不一樣(有智慧)\n",
    "age = int(input(\"請輸入年齡\"))\n",
    "\n",
    "if age >= 18:\n",
    "    print(\"我滿18\")\n",
    "    print(\"我可以考駕照\")\n",
    "else:\n",
    "    print(\"我未滿18\")\n",
    "    print(\"我不能考駕照\")\n"
   ]
  }
 ],
 "metadata": {
  "language_info": {
   "name": "python"
  }
 },
 "nbformat": 4,
 "nbformat_minor": 5
}
