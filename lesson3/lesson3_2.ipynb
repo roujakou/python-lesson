{
 "cells": [
  {
   "cell_type": "code",
   "execution_count": 2,
   "id": "b8f916c4",
   "metadata": {},
   "outputs": [
    {
     "name": "stdout",
     "output_type": "stream",
     "text": [
      "ABCD\n"
     ]
    }
   ],
   "source": [
    "print(\"AB\" + \"CD\")"
   ]
  },
  {
   "cell_type": "code",
   "execution_count": 1,
   "id": "086cfa1f",
   "metadata": {},
   "outputs": [
    {
     "name": "stdout",
     "output_type": "stream",
     "text": [
      "我的基本資料:\n",
      "姓名\t黃柏瑞\n",
      "性別\t男\n"
     ]
    }
   ],
   "source": [
    "#字串特殊符號\n",
    "#\\(backslash)n 換行\n",
    "#\\t TAB\n",
    "print(\"我的基本資料:\\n姓名\\t黃柏瑞\\n性別\\t男\")"
   ]
  },
  {
   "cell_type": "code",
   "execution_count": 4,
   "id": "af132e65",
   "metadata": {},
   "outputs": [
    {
     "name": "stdout",
     "output_type": "stream",
     "text": [
      "我的基本資料:\n",
      "姓名:   黃柏瑞\n",
      "性別:   男\n"
     ]
    }
   ],
   "source": [
    "#多行文字\n",
    "info = '''我的基本資料:\n",
    "姓名:   黃柏瑞\n",
    "性別:   男'''\n",
    "print(info)"
   ]
  },
  {
   "cell_type": "code",
   "execution_count": 9,
   "id": "58a2a8ea",
   "metadata": {},
   "outputs": [
    {
     "name": "stdout",
     "output_type": "stream",
     "text": [
      "我有水果   10個\n",
      "蘋果       7個\n",
      "香蕉       3根\n"
     ]
    }
   ],
   "source": [
    "#字串和數值變數整合\n",
    "#格式化字串(字串差補)\n",
    "fruit = 10\n",
    "apple = 7\n",
    "banana = 3\n",
    "\n",
    "result = f'''我有水果   {fruit}個\n",
    "蘋果       {apple}個\n",
    "香蕉       {banana}根'''\n",
    "print(result)"
   ]
  },
  {
   "cell_type": "code",
   "execution_count": null,
   "id": "9b3bd0d3",
   "metadata": {},
   "outputs": [
    {
     "name": "stdout",
     "output_type": "stream",
     "text": [
      "我滿18\n",
      "我可以考駕照\n"
     ]
    }
   ],
   "source": [
    "#流程控制的判斷\n",
    "#判斷讓執行的程式不一樣(有智慧)\n",
    "age = int(input(\"請輸入年齡\"))\n",
    "\n",
    "if age >= 18:\n",
    "    print(\"我滿18\")\n",
    "    print(\"我可以考駕照\")\n",
    "else:\n",
    "    print(\"我未滿18\")\n",
    "    print(\"我不能考駕照\")\n"
   ]
  }
 ],
 "metadata": {
  "kernelspec": {
   "display_name": "base",
   "language": "python",
   "name": "python3"
  },
  "language_info": {
   "codemirror_mode": {
    "name": "ipython",
    "version": 3
   },
   "file_extension": ".py",
   "mimetype": "text/x-python",
   "name": "python",
   "nbconvert_exporter": "python",
   "pygments_lexer": "ipython3",
   "version": "3.13.2"
  }
 },
 "nbformat": 4,
 "nbformat_minor": 5
}
