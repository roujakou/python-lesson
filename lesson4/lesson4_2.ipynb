{
 "cells": [
  {
   "cell_type": "code",
   "execution_count": 6,
   "id": "9758872f",
   "metadata": {},
   "outputs": [
    {
     "name": "stdout",
     "output_type": "stream",
     "text": [
      "及格\n"
     ]
    }
   ],
   "source": [
    "    score = int(input(\"請輸入學生分數:\"))\n",
    "\n",
    "    if score >= 60:\n",
    "        score <= 100\n",
    "        print(\"及格\")\n",
    "    else:\n",
    "        print(\"不及格\")"
   ]
  },
  {
   "cell_type": "code",
   "execution_count": 18,
   "id": "75fd6bb5",
   "metadata": {},
   "outputs": [
    {
     "name": "stdout",
     "output_type": "stream",
     "text": [
      "輸入錯誤\n"
     ]
    }
   ],
   "source": [
    "score = int(input(\"請輸入學生分數:\"))\n",
    "if score > 100:\n",
    "    print(\"輸入錯誤\")\n",
    "else:\n",
    "    if score >= 90:\n",
    "        print(\"優\")\n",
    "    else:\n",
    "        if score >= 60:\n",
    "            print(\"及格\")\n",
    "        else:\n",
    "            print(\"不及格\")"
   ]
  },
  {
   "cell_type": "code",
   "execution_count": 27,
   "id": "4c9b6bb5",
   "metadata": {},
   "outputs": [
    {
     "name": "stdout",
     "output_type": "stream",
     "text": [
      "====BMI計算=======\n",
      "\n",
      "您的BMI是18.52\n",
      "正常\n"
     ]
    }
   ],
   "source": [
    "# 計算BMI\n",
    "print(\"====BMI計算=======\\n\")\n",
    "height = int(input(\"請輸入身高(cm):\"))\n",
    "weight = int(input(\"請輸入體重(kg):\"))\n",
    "bmi = weight / (height/100) ** 2\n",
    "print(f\"您的BMI是{round(bmi,ndigits=2)}\")\n",
    "\n",
    "if bmi < 18.5:\n",
    "    print(\"過輕\")\n",
    "elif bmi < 24:\n",
    "    print(\"正常\")\n",
    "elif bmi < 27:\n",
    "    print(\"過重\")\n",
    "elif bmi < 30:\n",
    "    print(\"輕度肥胖\")\n",
    "elif bmi <= 35:\n",
    "    print(\"中度肥胖\")\n",
    "else:\n",
    "    print(\"重度肥胖\")"
   ]
  },
  {
   "cell_type": "code",
   "execution_count": 29,
   "id": "7d2809b4",
   "metadata": {},
   "outputs": [
    {
     "name": "stdout",
     "output_type": "stream",
     "text": [
      "及格\n",
      "及格\n"
     ]
    }
   ],
   "source": [
    "score = int(input(\"請輸入學生分數:\"))\n",
    "if score > 60:\n",
    "    print(\"及格\")\n",
    "else:\n",
    "    print(\"不及格\")\n",
    "\n",
    "if not (score > 60):\n",
    "    print(\"不及格\")\n",
    "else:\n",
    "    print(\"及格\")"
   ]
  }
 ],
 "metadata": {
  "kernelspec": {
   "display_name": "base",
   "language": "python",
   "name": "python3"
  },
  "language_info": {
   "codemirror_mode": {
    "name": "ipython",
    "version": 3
   },
   "file_extension": ".py",
   "mimetype": "text/x-python",
   "name": "python",
   "nbconvert_exporter": "python",
   "pygments_lexer": "ipython3",
   "version": "3.13.2"
  }
 },
 "nbformat": 4,
 "nbformat_minor": 5
}
