{
 "cells": [
  {
   "cell_type": "code",
   "execution_count": 2,
   "id": "99fed2a3",
   "metadata": {},
   "outputs": [
    {
     "name": "stdout",
     "output_type": "stream",
     "text": [
      "不能考駕照\n"
     ]
    }
   ],
   "source": [
    "age = int(input(\"輸入年齡\"))\n",
    "\n",
    "if age >= 18:\n",
    "    print(\"可考駕照\")\n",
    "else:\n",
    "    print(\"不能考駕照\")"
   ]
  },
  {
   "cell_type": "code",
   "execution_count": 20,
   "id": "0df53e36",
   "metadata": {},
   "outputs": [
    {
     "name": "stdout",
     "output_type": "stream",
     "text": [
      "輸入學生的分數，無法辨識\n",
      "應用程式結束\n"
     ]
    }
   ],
   "source": [
    "try:\n",
    "    scores = int(input(\"請輸入學生分數(最高300分)\"))\n",
    "    if scores > 300:\n",
    "        raise Exception(\"分數不可大於300\")\n",
    "    else:\n",
    "        is_add = input(\"學生是否符合條件(y,n)\")\n",
    "\n",
    "    if(is_add == 'y'):\n",
    "        scores *= 1.05\n",
    "        if(scores > 300):\n",
    "            scores = 300\n",
    "\n",
    "    print(round(scores)) \n",
    "except ValueError:\n",
    "    print(\"輸入學生的分數，無法辨識\")\n",
    "except:\n",
    "    print(\"出現錯誤，請重新執行\")\n",
    "\n",
    "print(\"應用程式結束\")"
   ]
  },
  {
   "cell_type": "code",
   "execution_count": null,
   "id": "b2aa6bec",
   "metadata": {},
   "outputs": [
    {
     "name": "stdout",
     "output_type": "stream",
     "text": [
      "213213\n",
      "應用程式結束\n"
     ]
    }
   ],
   "source": [
    "try:\n",
    "    money = int(input(\"請輸入金額:\"))\n",
    "    raise Exception(\"手動發出錯誤\")\n",
    "    print(money)\n",
    "except ValueError:\n",
    "    print(\"輸入錯誤\")\n",
    "except:\n",
    "    print(\"不知名錯誤\")\n",
    "\n",
    "print(\"應用程式結束\")"
   ]
  }
 ],
 "metadata": {
  "kernelspec": {
   "display_name": "base",
   "language": "python",
   "name": "python3"
  },
  "language_info": {
   "codemirror_mode": {
    "name": "ipython",
    "version": 3
   },
   "file_extension": ".py",
   "mimetype": "text/x-python",
   "name": "python",
   "nbconvert_exporter": "python",
   "pygments_lexer": "ipython3",
   "version": "3.13.2"
  }
 },
 "nbformat": 4,
 "nbformat_minor": 5
}
